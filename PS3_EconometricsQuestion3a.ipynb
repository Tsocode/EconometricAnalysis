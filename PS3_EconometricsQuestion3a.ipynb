{
  "nbformat": 4,
  "nbformat_minor": 0,
  "metadata": {
    "colab": {
      "provenance": [],
      "authorship_tag": "ABX9TyMMLXlPZv5G032eUmeB85+r",
      "include_colab_link": true
    },
    "kernelspec": {
      "name": "python3",
      "display_name": "Python 3"
    },
    "language_info": {
      "name": "python"
    }
  },
  "cells": [
    {
      "cell_type": "markdown",
      "metadata": {
        "id": "view-in-github",
        "colab_type": "text"
      },
      "source": [
        "<a href=\"https://colab.research.google.com/github/Tsocode/EconometricAnalysis/blob/main/PS3_EconometricsQuestion3a.ipynb\" target=\"_parent\"><img src=\"https://colab.research.google.com/assets/colab-badge.svg\" alt=\"Open In Colab\"/></a>"
      ]
    },
    {
      "cell_type": "code",
      "execution_count": 10,
      "metadata": {
        "colab": {
          "base_uri": "https://localhost:8080/"
        },
        "id": "YCG5Pw7uE2S3",
        "outputId": "03d72cbf-5e78-4389-d8ef-e9fa71399dea"
      },
      "outputs": [
        {
          "output_type": "stream",
          "name": "stdout",
          "text": [
            "Drive already mounted at /content/drive; to attempt to forcibly remount, call drive.mount(\"/content/drive\", force_remount=True).\n",
            "     id state  year  mrdrte  exec  unem  d90  d93  cmrdrte  cexec  cunem  \\\n",
            "0     1    AL    87     9.3     2   7.8    0    0      NaN    NaN    NaN   \n",
            "1     1    AL    90    11.6     5   6.8    1    0      2.3    3.0   -1.0   \n",
            "2     1    AL    93    11.6     2   7.5    0    1      0.0   -3.0    0.7   \n",
            "3     2    AK    87    10.1     0  10.8    0    0      NaN    NaN    NaN   \n",
            "4     2    AK    90     7.5     0   6.9    1    0     -2.6    0.0   -3.9   \n",
            "..   ..   ...   ...     ...   ...   ...  ...  ...      ...    ...    ...   \n",
            "148  50    WI    90     4.6     0   4.4    1    0      1.1    0.0   -1.7   \n",
            "149  50    WI    93     4.4     0   4.7    0    1     -0.2    0.0    0.3   \n",
            "150  51    WY    87     2.0     0   8.6    0    0      NaN    NaN    NaN   \n",
            "151  51    WY    90     4.9     0   5.4    1    0      2.9    0.0   -3.2   \n",
            "152  51    WY    93     3.4     1   5.4    0    1     -1.5    1.0    0.0   \n",
            "\n",
            "     cexec_1  cunem_1  \n",
            "0        NaN      NaN  \n",
            "1        NaN      NaN  \n",
            "2        3.0     -1.0  \n",
            "3        NaN      NaN  \n",
            "4        NaN      NaN  \n",
            "..       ...      ...  \n",
            "148      NaN      NaN  \n",
            "149      0.0     -1.7  \n",
            "150      NaN      NaN  \n",
            "151      NaN      NaN  \n",
            "152      0.0     -3.2  \n",
            "\n",
            "[153 rows x 13 columns]\n"
          ]
        }
      ],
      "source": [
        "from google.colab import drive\n",
        "drive.mount('/content/drive')\n",
        "\n",
        "import pandas as pd\n",
        "\n",
        "# Read the .DTA file\n",
        "df = pd.read_stata('/content/drive/My Drive/EconometricsPS3Files/PS3datafiles/MURDER.DTA')\n",
        "\n",
        "# Print the dataframe\n",
        "print(df)"
      ]
    },
    {
      "cell_type": "code",
      "source": [
        "import pandas as pd\n",
        "\n",
        "# Read the .DTA file\n",
        "df = pd.read_stata('/content/drive/My Drive/EconometricsPS3Files/PS3datafiles/LOWBIRTH.DTA')\n",
        "\n",
        "# Print the dataframe\n",
        "print(df)"
      ],
      "metadata": {
        "colab": {
          "base_uri": "https://localhost:8080/"
        },
        "id": "o5xxRbHOGdDP",
        "outputId": "c664d5ba-0862-4da7-f3bb-498f343ea26b"
      },
      "execution_count": 16,
      "outputs": [
        {
          "output_type": "stream",
          "name": "stdout",
          "text": [
            "    year  lowbrth  infmort  afdcprt  popul  pcinc  physic   afdcprc  d90  \\\n",
            "0   1987      8.0     12.2      132   4084  12039     151  3.232125    0   \n",
            "1   1990      8.4     10.8      132   4041  14899     158  3.266518    1   \n",
            "2   1987      4.8     10.4       19    524  18461     138  3.625954    0   \n",
            "3   1990      4.8     10.5       24    550  20867     146  4.363636    1   \n",
            "4   1987      6.4      9.5       91   3400  14322     191  2.676471    0   \n",
            "..   ...      ...      ...      ...    ...    ...     ...       ...  ...   \n",
            "95  1990      7.1      9.9      109   1793  13722     166  6.079197    1   \n",
            "96  1987      5.4      8.6      271   4807  14674     181  5.637612    0   \n",
            "97  1990      5.9      8.2      236   4892  17455     189  4.824203    1   \n",
            "98  1987      7.7      9.2       13    490  12836     134  2.653061    0   \n",
            "99  1990      7.4      8.6       16    454  16467     139  3.524229    1   \n",
            "\n",
            "      lpcinc  ...  clbedspc    povrate  cpovrate    afdcpsq  cafdcpsq  \\\n",
            "0   9.395906  ...       NaN  21.299999       NaN  10.446634       NaN   \n",
            "1   9.609050  ... -0.018767  19.200001 -2.099998  10.670140  0.223506   \n",
            "2   9.823416  ...       NaN  12.000000       NaN  13.147544       NaN   \n",
            "3   9.945924  ... -0.048427  11.400000 -0.600000  19.041323  5.893779   \n",
            "4   9.569552  ...       NaN  12.800000       NaN   7.163495       NaN   \n",
            "..       ...  ...       ...        ...       ...        ...       ...   \n",
            "95  9.526755  ... -0.045505  18.100000 -3.500000  36.956635  2.754475   \n",
            "96  9.593833  ...       NaN   9.000000       NaN  31.782667       NaN   \n",
            "97  9.767382  ... -0.086802   9.300000  0.300000  23.272934 -8.509733   \n",
            "98  9.460009  ...       NaN  10.800000       NaN   7.038733       NaN   \n",
            "99  9.709114  ...  0.009617  11.000000  0.200000  12.420191  5.381457   \n",
            "\n",
            "    physicpc    lphypc   clphypc    lpopul   clpopul  \n",
            "0   0.036974 -3.297552       NaN  8.314832       NaN  \n",
            "1   0.039099 -3.241652  0.055900  8.304248 -0.010584  \n",
            "2   0.263359 -1.334238       NaN  6.261492       NaN  \n",
            "3   0.265455 -1.326312  0.007926  6.309918  0.048427  \n",
            "4   0.056176 -2.879257       NaN  8.131531       NaN  \n",
            "..       ...       ...       ...       ...       ...  \n",
            "95  0.092582 -2.379658  0.069032  7.491645 -0.056911  \n",
            "96  0.037653 -3.279331       NaN  8.477828       NaN  \n",
            "97  0.038635 -3.253609  0.025722  8.495357  0.017529  \n",
            "98  0.273469 -1.296566       NaN  6.194406       NaN  \n",
            "99  0.306167 -1.183623  0.112942  6.118097 -0.076308  \n",
            "\n",
            "[100 rows x 36 columns]\n"
          ]
        }
      ]
    },
    {
      "cell_type": "code",
      "source": [
        "import pandas as pd\n",
        "\n",
        "# Read the .DTA file\n",
        "df = pd.read_stata('/content/drive/My Drive/EconometricsPS3Files/PS3datafiles/wagepan.dta')\n",
        "\n",
        "# Print the dataframe\n",
        "print(df)"
      ],
      "metadata": {
        "colab": {
          "base_uri": "https://localhost:8080/"
        },
        "id": "iMgSkrANGkTD",
        "outputId": "6da051b4-7828-4bf5-b46c-23b4ae071282"
      },
      "execution_count": null,
      "outputs": [
        {
          "output_type": "stream",
          "name": "stdout",
          "text": [
            "         nr  year  agric  black  bus  construc  ent  exper  fin  hisp  ...  \\\n",
            "0        13  1980      0      0    1         0    0      1    0     0  ...   \n",
            "1        13  1981      0      0    0         0    0      2    0     0  ...   \n",
            "2        13  1982      0      0    1         0    0      3    0     0  ...   \n",
            "3        13  1983      0      0    1         0    0      4    0     0  ...   \n",
            "4        13  1984      0      0    0         0    0      5    0     0  ...   \n",
            "...     ...   ...    ...    ...  ...       ...  ...    ...  ...   ...  ...   \n",
            "4355  12548  1983      0      0    0         1    0      8    0     0  ...   \n",
            "4356  12548  1984      0      0    0         1    0      9    0     0  ...   \n",
            "4357  12548  1985      0      0    0         1    0     10    0     0  ...   \n",
            "4358  12548  1986      0      0    0         0    0     11    0     0  ...   \n",
            "4359  12548  1987      0      0    0         0    0     12    0     0  ...   \n",
            "\n",
            "      d87  expersq  d81educ  d82educ  d83educ  d84educ  d85educ  d86educ  \\\n",
            "0       0        1      0.0      0.0      0.0      0.0      0.0      0.0   \n",
            "1       0        4     14.0      0.0      0.0      0.0      0.0      0.0   \n",
            "2       0        9      0.0     14.0      0.0      0.0      0.0      0.0   \n",
            "3       0       16      0.0      0.0     14.0      0.0      0.0      0.0   \n",
            "4       0       25      0.0      0.0      0.0     14.0      0.0      0.0   \n",
            "...   ...      ...      ...      ...      ...      ...      ...      ...   \n",
            "4355    0       64      0.0      0.0      9.0      0.0      0.0      0.0   \n",
            "4356    0       81      0.0      0.0      0.0      9.0      0.0      0.0   \n",
            "4357    0      100      0.0      0.0      0.0      0.0      9.0      0.0   \n",
            "4358    0      121      0.0      0.0      0.0      0.0      0.0      9.0   \n",
            "4359    1      144      0.0      0.0      0.0      0.0      0.0      0.0   \n",
            "\n",
            "      d87educ  unionp1  \n",
            "0         0.0      1.0  \n",
            "1         0.0      0.0  \n",
            "2         0.0      0.0  \n",
            "3         0.0      0.0  \n",
            "4         0.0      0.0  \n",
            "...       ...      ...  \n",
            "4355      0.0      1.0  \n",
            "4356      0.0      0.0  \n",
            "4357      0.0      1.0  \n",
            "4358      0.0      1.0  \n",
            "4359      9.0      NaN  \n",
            "\n",
            "[4360 rows x 52 columns]\n"
          ]
        }
      ]
    },
    {
      "cell_type": "code",
      "source": [
        "!pip install linearmodels\n"
      ],
      "metadata": {
        "colab": {
          "base_uri": "https://localhost:8080/"
        },
        "id": "Aho9aEenQwv2",
        "outputId": "797c83dd-4223-42b0-a758-2c5e9f5a5421"
      },
      "execution_count": 1,
      "outputs": [
        {
          "output_type": "stream",
          "name": "stdout",
          "text": [
            "Collecting linearmodels\n",
            "  Downloading linearmodels-5.4-cp310-cp310-manylinux_2_17_x86_64.manylinux2014_x86_64.whl (1.5 MB)\n",
            "\u001b[2K     \u001b[90m━━━━━━━━━━━━━━━━━━━━━━━━━━━━━━━━━━━━━━━━\u001b[0m \u001b[32m1.5/1.5 MB\u001b[0m \u001b[31m8.4 MB/s\u001b[0m eta \u001b[36m0:00:00\u001b[0m\n",
            "\u001b[?25hRequirement already satisfied: numpy>=1.22.0 in /usr/local/lib/python3.10/dist-packages (from linearmodels) (1.25.2)\n",
            "Requirement already satisfied: pandas>=1.3.0 in /usr/local/lib/python3.10/dist-packages (from linearmodels) (1.5.3)\n",
            "Requirement already satisfied: scipy>=1.5.0 in /usr/local/lib/python3.10/dist-packages (from linearmodels) (1.11.4)\n",
            "Requirement already satisfied: statsmodels>=0.12.0 in /usr/local/lib/python3.10/dist-packages (from linearmodels) (0.14.1)\n",
            "Collecting mypy-extensions>=0.4 (from linearmodels)\n",
            "  Downloading mypy_extensions-1.0.0-py3-none-any.whl (4.7 kB)\n",
            "Requirement already satisfied: Cython>=0.29.37 in /usr/local/lib/python3.10/dist-packages (from linearmodels) (3.0.8)\n",
            "Collecting pyhdfe>=0.1 (from linearmodels)\n",
            "  Downloading pyhdfe-0.2.0-py3-none-any.whl (19 kB)\n",
            "Collecting formulaic>=0.6.5 (from linearmodels)\n",
            "  Downloading formulaic-1.0.1-py3-none-any.whl (94 kB)\n",
            "\u001b[2K     \u001b[90m━━━━━━━━━━━━━━━━━━━━━━━━━━━━━━━━━━━━━━━━\u001b[0m \u001b[32m94.2/94.2 kB\u001b[0m \u001b[31m5.6 MB/s\u001b[0m eta \u001b[36m0:00:00\u001b[0m\n",
            "\u001b[?25hCollecting setuptools-scm[toml]<9.0.0,>=8.0.0 (from linearmodels)\n",
            "  Downloading setuptools_scm-8.0.4-py3-none-any.whl (42 kB)\n",
            "\u001b[2K     \u001b[90m━━━━━━━━━━━━━━━━━━━━━━━━━━━━━━━━━━━━━━━━\u001b[0m \u001b[32m42.1/42.1 kB\u001b[0m \u001b[31m5.5 MB/s\u001b[0m eta \u001b[36m0:00:00\u001b[0m\n",
            "\u001b[?25hCollecting interface-meta>=1.2.0 (from formulaic>=0.6.5->linearmodels)\n",
            "  Downloading interface_meta-1.3.0-py3-none-any.whl (14 kB)\n",
            "Requirement already satisfied: typing-extensions>=4.2.0 in /usr/local/lib/python3.10/dist-packages (from formulaic>=0.6.5->linearmodels) (4.9.0)\n",
            "Requirement already satisfied: wrapt>=1.0 in /usr/local/lib/python3.10/dist-packages (from formulaic>=0.6.5->linearmodels) (1.14.1)\n",
            "Requirement already satisfied: python-dateutil>=2.8.1 in /usr/local/lib/python3.10/dist-packages (from pandas>=1.3.0->linearmodels) (2.8.2)\n",
            "Requirement already satisfied: pytz>=2020.1 in /usr/local/lib/python3.10/dist-packages (from pandas>=1.3.0->linearmodels) (2023.4)\n",
            "Requirement already satisfied: packaging>=20 in /usr/local/lib/python3.10/dist-packages (from setuptools-scm[toml]<9.0.0,>=8.0.0->linearmodels) (23.2)\n",
            "Requirement already satisfied: setuptools in /usr/local/lib/python3.10/dist-packages (from setuptools-scm[toml]<9.0.0,>=8.0.0->linearmodels) (67.7.2)\n",
            "Requirement already satisfied: tomli>=1 in /usr/local/lib/python3.10/dist-packages (from setuptools-scm[toml]<9.0.0,>=8.0.0->linearmodels) (2.0.1)\n",
            "Requirement already satisfied: patsy>=0.5.4 in /usr/local/lib/python3.10/dist-packages (from statsmodels>=0.12.0->linearmodels) (0.5.6)\n",
            "Requirement already satisfied: six in /usr/local/lib/python3.10/dist-packages (from patsy>=0.5.4->statsmodels>=0.12.0->linearmodels) (1.16.0)\n",
            "Installing collected packages: setuptools-scm, mypy-extensions, interface-meta, pyhdfe, formulaic, linearmodels\n",
            "Successfully installed formulaic-1.0.1 interface-meta-1.3.0 linearmodels-5.4 mypy-extensions-1.0.0 pyhdfe-0.2.0 setuptools-scm-8.0.4\n"
          ]
        }
      ]
    },
    {
      "cell_type": "code",
      "source": [
        "from linearmodels.panel import PanelOLS\n",
        "import pandas as pd\n",
        "\n",
        "# Assuming df is your DataFrame after reading MURDER.DTA\n",
        "# First, make sure 'year' is treated as a numeric column\n",
        "df['year'] = pd.to_numeric(df['year'], errors='coerce')\n",
        "\n",
        "# Now, you need to set the panel index correctly\n",
        "df = df.set_index(['id', 'year'])\n",
        "\n",
        "# Finally, fit the model with entity effects\n",
        "mod = PanelOLS.from_formula('mrdrte ~ exec + unem + EntityEffects', data=df)\n",
        "fe_results = mod.fit(cov_type='clustered', cluster_entity=True)\n",
        "\n",
        "# Print the fixed effects model results\n",
        "print(fe_results)\n",
        "\n"
      ],
      "metadata": {
        "colab": {
          "base_uri": "https://localhost:8080/"
        },
        "id": "CezObhU_Q2z6",
        "outputId": "12e4fad2-732f-4d87-ecd6-d146811eb34f"
      },
      "execution_count": 11,
      "outputs": [
        {
          "output_type": "stream",
          "name": "stdout",
          "text": [
            "                          PanelOLS Estimation Summary                           \n",
            "================================================================================\n",
            "Dep. Variable:                 mrdrte   R-squared:                        0.0047\n",
            "Estimator:                   PanelOLS   R-squared (Between):              0.0460\n",
            "No. Observations:                 153   R-squared (Within):               0.0047\n",
            "Date:                Sat, Feb 24 2024   R-squared (Overall):              0.0436\n",
            "Time:                        22:44:55   Log-likelihood                   -381.10\n",
            "Cov. Estimator:             Clustered                                           \n",
            "                                        F-statistic:                      0.2352\n",
            "Entities:                          51   P-value                           0.7909\n",
            "Avg Obs:                       3.0000   Distribution:                   F(2,100)\n",
            "Min Obs:                       3.0000                                           \n",
            "Max Obs:                       3.0000   F-statistic (robust):             1.2521\n",
            "                                        P-value                           0.2903\n",
            "Time periods:                       3   Distribution:                   F(2,100)\n",
            "Avg Obs:                       51.000                                           \n",
            "Min Obs:                       51.000                                           \n",
            "Max Obs:                       51.000                                           \n",
            "                                                                                \n",
            "                             Parameter Estimates                              \n",
            "==============================================================================\n",
            "            Parameter  Std. Err.     T-stat    P-value    Lower CI    Upper CI\n",
            "------------------------------------------------------------------------------\n",
            "exec          -0.1141     0.0803    -1.4205     0.1586     -0.2734      0.0453\n",
            "unem           0.0959     0.2626     0.3653     0.7157     -0.4250      0.6169\n",
            "==============================================================================\n",
            "\n",
            "F-test for Poolability: 16.456\n",
            "P-value: 0.0000\n",
            "Distribution: F(50,100)\n",
            "\n",
            "Included effects: Entity\n"
          ]
        }
      ]
    },
    {
      "cell_type": "code",
      "source": [
        "import pandas as pd\n",
        "\n",
        "# Assuming df is your DataFrame\n",
        "\n",
        "# Verify the presence of 'state' and 'year' columns\n",
        "print(\"Columns in df:\", df.columns)\n",
        "if 'state' not in df.columns or 'year' not in df.columns:\n",
        "    print(\"One or both of 'state' and 'year' are not in df.columns. Please adjust accordingly.\")\n",
        "    # You may need to adjust the DataFrame here if 'state' or 'year' are missing\n",
        "\n",
        "# If 'state' and 'year' are present, set them as indices\n",
        "else:\n",
        "    df.set_index(['state', 'year'], inplace=True)\n",
        "    print(\"'state' and 'year' are now set as indices.\")\n",
        "\n",
        "# Perform the difference operation group-wise and drop NA values\n",
        "# Ensure 'state' is a level in your MultiIndex after setting it as an index\n",
        "try:\n",
        "    df_fd = df.groupby(level='state')[['mrdrte', 'exec', 'unem']].diff().dropna()\n",
        "except KeyError as e:\n",
        "    print(f\"Error during grouping by 'state': {e}\")\n",
        "    # This catch is to handle cases where 'state' might not be correctly set as an index level\n",
        "\n",
        "# Before merging, ensure 'd90' and 'd93' are columns in the original df\n",
        "if 'd90' in df.columns and 'd93' in df.columns:\n",
        "    # Since 'state' and 'year' are indices, directly merge with the subset of df that includes 'd90' and 'd93'\n",
        "    df_fd = df_fd.merge(df[['d90', 'd93']], left_index=True, right_index=True)\n",
        "    print(\"Merge successful with 'd90' and 'd93'.\")\n",
        "else:\n",
        "    print(\"One or both of 'd90' and 'd93' are not in df.columns. Please adjust accordingly.\")\n",
        "\n",
        "# Ensure the final DataFrame (df_fd) is correct\n",
        "print(df_fd.head())\n"
      ],
      "metadata": {
        "colab": {
          "base_uri": "https://localhost:8080/"
        },
        "id": "qhEZ5DaAQ6jN",
        "outputId": "4c2ddec5-e708-4e76-b0df-36e9df5b7305"
      },
      "execution_count": 14,
      "outputs": [
        {
          "output_type": "stream",
          "name": "stdout",
          "text": [
            "Columns in df: Index(['state', 'mrdrte', 'exec', 'unem', 'd90', 'd93', 'cmrdrte', 'cexec',\n",
            "       'cunem', 'cexec_1', 'cunem_1'],\n",
            "      dtype='object')\n",
            "One or both of 'state' and 'year' are not in df.columns. Please adjust accordingly.\n",
            "Error during grouping by 'state': 'Level state not found'\n",
            "Merge successful with 'd90' and 'd93'.\n",
            "         mrdrte  exec  unem  d90  d93\n",
            "id year                              \n",
            "1  90       2.3   3.0  -1.0    1    0\n",
            "   93       0.0  -3.0   0.7    0    1\n",
            "2  90      -2.6   0.0  -3.9    1    0\n",
            "   93       1.5   0.0   0.7    0    1\n",
            "3  90       0.2   0.0  -0.9    1    0\n"
          ]
        }
      ]
    },
    {
      "cell_type": "code",
      "source": [
        "import statsmodels.api as sm\n",
        "\n",
        "X_fd = sm.add_constant(df_fd[['exec', 'unem']])\n",
        "y_fd = df_fd['mrdrte']\n",
        "\n",
        "mod_fd = sm.OLS(y_fd, X_fd)\n",
        "fd_results = mod_fd.fit()\n",
        "\n",
        "print(fd_results.summary())\n"
      ],
      "metadata": {
        "colab": {
          "base_uri": "https://localhost:8080/"
        },
        "id": "_etKOwvRQ8Fm",
        "outputId": "2fbe94bb-5475-4ae4-d57f-4ca7679046a4"
      },
      "execution_count": 15,
      "outputs": [
        {
          "output_type": "stream",
          "name": "stdout",
          "text": [
            "                            OLS Regression Results                            \n",
            "==============================================================================\n",
            "Dep. Variable:                 mrdrte   R-squared:                       0.009\n",
            "Model:                            OLS   Adj. R-squared:                 -0.011\n",
            "Method:                 Least Squares   F-statistic:                    0.4472\n",
            "Date:                Sat, 24 Feb 2024   Prob (F-statistic):              0.641\n",
            "Time:                        22:55:24   Log-Likelihood:                -292.32\n",
            "No. Observations:                 102   AIC:                             590.6\n",
            "Df Residuals:                      99   BIC:                             598.5\n",
            "Df Model:                           2                                         \n",
            "Covariance Type:            nonrobust                                         \n",
            "==============================================================================\n",
            "                 coef    std err          t      P>|t|      [0.025      0.975]\n",
            "------------------------------------------------------------------------------\n",
            "const          0.8669      0.428      2.025      0.046       0.018       1.716\n",
            "exec          -0.1314      0.147     -0.892      0.375      -0.424       0.161\n",
            "unem          -0.0448      0.262     -0.171      0.865      -0.565       0.475\n",
            "==============================================================================\n",
            "Omnibus:                      203.795   Durbin-Watson:                   2.025\n",
            "Prob(Omnibus):                  0.000   Jarque-Bera (JB):            28372.142\n",
            "Skew:                           8.624   Prob(JB):                         0.00\n",
            "Kurtosis:                      82.864   Cond. No.                         2.97\n",
            "==============================================================================\n",
            "\n",
            "Notes:\n",
            "[1] Standard Errors assume that the covariance matrix of the errors is correctly specified.\n"
          ]
        }
      ]
    },
    {
      "cell_type": "code",
      "source": [],
      "metadata": {
        "id": "pVXIiR6tQ_GW"
      },
      "execution_count": null,
      "outputs": []
    }
  ]
}